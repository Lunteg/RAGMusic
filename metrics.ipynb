{
 "cells": [
  {
   "cell_type": "code",
   "execution_count": 1,
   "metadata": {},
   "outputs": [],
   "source": [
    "import sqlite3\n",
    "import pandas as pd\n",
    "from source.metrics import novelty, personalization, mean_ap_at_k, mean_ndcg_at_k"
   ]
  },
  {
   "cell_type": "code",
   "execution_count": 2,
   "metadata": {},
   "outputs": [],
   "source": [
    "conn = sqlite3.connect('data/data.db')\n",
    "cursor = conn.cursor()\n",
    "\n",
    "cursor.execute(\"\"\"\n",
    "SELECT user_id, GROUP_CONCAT(track_name) AS recommended_tracks\n",
    "FROM history\n",
    "GROUP BY user_id;\n",
    "\"\"\")\n",
    "\n",
    "user_ids = []\n",
    "recommendations = []\n",
    "for row in cursor.fetchall():\n",
    "    user_id = row[0]\n",
    "    user_ids.append(user_id)\n",
    "    recommended_tracks = row[1].split(',')\n",
    "    recommendations.append(recommended_tracks)\n",
    "\n",
    "conn.close()"
   ]
  },
  {
   "cell_type": "code",
   "execution_count": 3,
   "metadata": {},
   "outputs": [
    {
     "name": "stdout",
     "output_type": "stream",
     "text": [
      "novelty: \t [0.5, 1.0]\n",
      "personalization: 0.5\n"
     ]
    }
   ],
   "source": [
    "novelty_scores = novelty(recommendations)\n",
    "personalization_scores = personalization(recommendations)\n",
    "\n",
    "# print('user_id: \\t', user_ids)\n",
    "print('novelty: \\t', novelty_scores)\n",
    "print('personalization:', personalization_scores)"
   ]
  },
  {
   "cell_type": "code",
   "execution_count": 4,
   "metadata": {},
   "outputs": [
    {
     "data": {
      "text/html": [
       "<div>\n",
       "<style scoped>\n",
       "    .dataframe tbody tr th:only-of-type {\n",
       "        vertical-align: middle;\n",
       "    }\n",
       "\n",
       "    .dataframe tbody tr th {\n",
       "        vertical-align: top;\n",
       "    }\n",
       "\n",
       "    .dataframe thead th {\n",
       "        text-align: right;\n",
       "    }\n",
       "</style>\n",
       "<table border=\"1\" class=\"dataframe\">\n",
       "  <thead>\n",
       "    <tr style=\"text-align: right;\">\n",
       "      <th></th>\n",
       "      <th>user_id</th>\n",
       "      <th>recommendations</th>\n",
       "      <th>relevant</th>\n",
       "    </tr>\n",
       "  </thead>\n",
       "  <tbody>\n",
       "    <tr>\n",
       "      <th>0</th>\n",
       "      <td>2</td>\n",
       "      <td>6th avenue heartache|the good life|nobody's ho...</td>\n",
       "      <td>money machine|6th avenue heartache|the good li...</td>\n",
       "    </tr>\n",
       "    <tr>\n",
       "      <th>1</th>\n",
       "      <td>3</td>\n",
       "      <td>i've almost jack daniels drowned|always late w...</td>\n",
       "      <td>part iii|pearl's a singer|my own way|it's too ...</td>\n",
       "    </tr>\n",
       "    <tr>\n",
       "      <th>2</th>\n",
       "      <td>4</td>\n",
       "      <td>so in love|lonely &amp; cold|how junior got his he...</td>\n",
       "      <td>how junior got his head put out|lonely &amp; cold|...</td>\n",
       "    </tr>\n",
       "    <tr>\n",
       "      <th>3</th>\n",
       "      <td>5</td>\n",
       "      <td>the good life|how sweet the sound|on the surface</td>\n",
       "      <td>the good life</td>\n",
       "    </tr>\n",
       "  </tbody>\n",
       "</table>\n",
       "</div>"
      ],
      "text/plain": [
       "   user_id  ...                                           relevant\n",
       "0        2  ...  money machine|6th avenue heartache|the good li...\n",
       "1        3  ...  part iii|pearl's a singer|my own way|it's too ...\n",
       "2        4  ...  how junior got his head put out|lonely & cold|...\n",
       "3        5  ...                                      the good life\n",
       "\n",
       "[4 rows x 3 columns]"
      ]
     },
     "execution_count": 4,
     "metadata": {},
     "output_type": "execute_result"
    }
   ],
   "source": [
    "recs = pd.read_csv(\"data/recommendations.csv\")\n",
    "recs"
   ]
  },
  {
   "cell_type": "code",
   "execution_count": 5,
   "metadata": {},
   "outputs": [],
   "source": [
    "all_recommended = recs['recommendations'].str.split('|').to_list()\n",
    "all_relevant = recs['relevant'].str.split('|').to_list()\n",
    "k = 4"
   ]
  },
  {
   "cell_type": "code",
   "execution_count": 6,
   "metadata": {},
   "outputs": [
    {
     "data": {
      "text/plain": [
       "[['6th avenue heartache',\n",
       "  'the good life',\n",
       "  \"nobody's home\",\n",
       "  'in the shadow of a lie',\n",
       "  'paper hearts'],\n",
       " [\"i've almost jack daniels drowned\",\n",
       "  'always late with your kisses',\n",
       "  \"it's too late\",\n",
       "  'cut it (feat. young dolph)',\n",
       "  'give it to me'],\n",
       " ['so in love',\n",
       "  'lonely & cold',\n",
       "  'how junior got his head put out',\n",
       "  'west end',\n",
       "  'lady grinning soul'],\n",
       " ['the good life', 'how sweet the sound', 'on the surface']]"
      ]
     },
     "execution_count": 6,
     "metadata": {},
     "output_type": "execute_result"
    }
   ],
   "source": [
    "all_recommended"
   ]
  },
  {
   "cell_type": "code",
   "execution_count": 7,
   "metadata": {},
   "outputs": [
    {
     "name": "stdout",
     "output_type": "stream",
     "text": [
      "average precision: 0.6458333333333334\n",
      "normalized dcg 0.7412240293023511\n"
     ]
    }
   ],
   "source": [
    "ndcg = mean_ndcg_at_k(all_recommended, all_relevant, k)\n",
    "ap = mean_ap_at_k(all_recommended, all_relevant, k)\n",
    "print(f\"average precision: {ap}\")\n",
    "print(f\"normalized dcg {ndcg}\")"
   ]
  },
  {
   "cell_type": "code",
   "execution_count": null,
   "metadata": {},
   "outputs": [],
   "source": []
  }
 ],
 "metadata": {
  "kernelspec": {
   "display_name": "Python 3",
   "language": "python",
   "name": "python3"
  },
  "language_info": {
   "codemirror_mode": {
    "name": "ipython",
    "version": 3
   },
   "file_extension": ".py",
   "mimetype": "text/x-python",
   "name": "python",
   "nbconvert_exporter": "python",
   "pygments_lexer": "ipython3",
   "version": "3.10.15"
  }
 },
 "nbformat": 4,
 "nbformat_minor": 2
}
